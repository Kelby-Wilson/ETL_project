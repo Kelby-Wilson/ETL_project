{
 "cells": [
  {
   "cell_type": "code",
   "execution_count": 21,
   "metadata": {},
   "outputs": [],
   "source": [
    "\n",
    "# Import dependencies\n",
    "import pandas as pd\n",
    "import numpy as np\n",
    "import os\n",
    "import csv"
   ]
  },
  {
   "cell_type": "code",
   "execution_count": 22,
   "metadata": {},
   "outputs": [
    {
     "name": "stdout",
     "output_type": "stream",
     "text": [
      "Number of Rows 3922\n"
     ]
    }
   ],
   "source": [
    "# We Import NBA Player's Career Profile\n",
    "\n",
    "players = './resources/Players.csv'\n",
    "career= pd.read_csv(players)\n",
    "\n",
    "print('Number of Rows', len(career))\n",
    "# career.count()"
   ]
  },
  {
   "cell_type": "code",
   "execution_count": 16,
   "metadata": {},
   "outputs": [
    {
     "name": "stdout",
     "output_type": "stream",
     "text": [
      "Number of Rows 4550\n"
     ]
    }
   ],
   "source": [
    "#  We Import NBA Player's Season Profiles\n",
    "\n",
    "player_data = './resources/player_data.csv'\n",
    "plyr_season = pd.read_csv(player_data)\n",
    "\n",
    "# Renames the Column 'name' to 'Player'\n",
    "plyr_season = plyr_season.rename(columns={'name': 'Player'})\n",
    "\n",
    "print('Number of Rows', len(plyr_season))\n",
    "# plyr_season.count()"
   ]
  },
  {
   "cell_type": "code",
   "execution_count": 17,
   "metadata": {},
   "outputs": [
    {
     "name": "stdout",
     "output_type": "stream",
     "text": [
      "Number of Rows 4550\n"
     ]
    }
   ],
   "source": [
    "# Merge the plyr_season & career Dataframes on 'Players'\n",
    "\n",
    "Player_Profile_Dirty = pd.merge(plyr_season, career, how='left', on=[\"Player\",\"Player\"])\n",
    "\n",
    "print('Number of Rows', len(Player_Profile_Dirty))\n",
    "Player_Profile_Dirty.count()"
   ]
  },
  {
   "cell_type": "code",
   "execution_count": 18,
   "metadata": {},
   "outputs": [
    {
     "name": "stdout",
     "output_type": "stream",
     "text": [
      "length of P_htwt 4550\n",
      "length of P_college 4550\n",
      "length of Player_htwt 4550\n"
     ]
    }
   ],
   "source": [
    "# Create DataFrames and edit Column Names\n",
    "\n",
    "htwt = [\n",
    "    'Player',\n",
    "    'height_y',\n",
    "    'weight_x']\n",
    "player_htwt= Player_Profile_Dirty[htwt]\n",
    "\n",
    "# Renames Columns\n",
    "P_htwt = player_htwt.rename(columns={\n",
    "    'height_y':'Height (cm)',\n",
    "    'weight_x':'Weight (lbs)'})\n",
    "print('length of P_htwt', len(P_htwt))\n",
    "\n",
    "\n",
    "# -----------\n",
    "college = [\n",
    "    'Player',\n",
    "    'college']\n",
    "player_college= Player_Profile_Dirty[college]\n",
    "\n",
    "# Renames Columns\n",
    "P_college = player_college.rename(columns={\n",
    "   'college':'College'})\n",
    "print('length of P_college', len(P_college))\n",
    "\n",
    "\n",
    "# -----------\n",
    "new_columns = [\n",
    "'Player',\n",
    "'birth_state']\n",
    "PP= Player_Profile_Dirty[new_columns]\n",
    "\n",
    "# Renames Columns\n",
    "PPD = PP.rename(columns={\n",
    "    'birth_state':'State',})\n",
    "print('length of Player_htwt', len(PPD))\n",
    "\n",
    "# P_htwt\n",
    "# P_college.count()\n",
    "# PPD.count()"
   ]
  },
  {
   "cell_type": "code",
   "execution_count": 26,
   "metadata": {},
   "outputs": [],
   "source": [
    "# We Import United States latitude and longitude\n",
    "\n",
    "LL= './resources/50_SLat_Lng.csv'\n",
    "ltlg= pd.read_csv(LL)\n",
    "\n",
    "# Renames Columns\n",
    "lat_lng= ltlg.rename(columns={\n",
    "    'Place Name':'State'})\n",
    "# lat_lng"
   ]
  },
  {
   "cell_type": "code",
   "execution_count": 27,
   "metadata": {},
   "outputs": [
    {
     "name": "stdout",
     "output_type": "stream",
     "text": [
      "4550\n"
     ]
    },
    {
     "data": {
      "text/plain": [
       "Player       4550\n",
       "State        3353\n",
       "Latitude     2928\n",
       "Longitude    2928\n",
       "dtype: int64"
      ]
     },
     "execution_count": 27,
     "metadata": {},
     "output_type": "execute_result"
    }
   ],
   "source": [
    "#  Merge Player Profile Dataframe with Lat. & Lng Dataframe\n",
    "\n",
    "Player_Profile_State = pd.merge(PPD,lat_lng, how='left', on=[\"State\",\"State\"])\n",
    "print(len(Player_Profile_State))\n",
    "Player_Profile_State.count()"
   ]
  },
  {
   "cell_type": "code",
   "execution_count": 40,
   "metadata": {},
   "outputs": [
    {
     "name": "stdout",
     "output_type": "stream",
     "text": [
      "Old data frame length: 4550 \n",
      "New data frame length: 2928 \n",
      "Number of Player Not Born In USA:  1622\n"
     ]
    },
    {
     "data": {
      "text/plain": [
       "Player       4550\n",
       "State        3353\n",
       "Latitude     2928\n",
       "Longitude    2928\n",
       "dtype: int64"
      ]
     },
     "execution_count": 40,
     "metadata": {},
     "output_type": "execute_result"
    }
   ],
   "source": [
    "# Remove Players not Born in the USA or info not recorded (1622)\n",
    "# Remove Duplicate Players by -> name and state\n",
    "\n",
    "Player_State = Player_Profile_State.dropna(axis = 0, how ='any') \n",
    "\n",
    "\n",
    "print(\"Old data frame length:\", len(Player_Profile_State),\n",
    "      \"\\nNew data frame length:\", len(Player_State),\n",
    "      \"\\nNumber of Player Not Born In USA: \",(len(Player_Profile_State)-len(Player_State)))\n",
    "Player_Profile_State.count()\n",
    "# Player_State.count()"
   ]
  },
  {
   "cell_type": "code",
   "execution_count": 29,
   "metadata": {},
   "outputs": [
    {
     "name": "stdout",
     "output_type": "stream",
     "text": [
      "Old data frame length: 2928 \n",
      "New data frame length: 2845 \n",
      "Number of Players with Incomplete Ht&Wt Data:  83\n"
     ]
    },
    {
     "data": {
      "text/plain": [
       "Player          2845\n",
       "State           2845\n",
       "Latitude        2845\n",
       "Longitude       2845\n",
       "Height (cm)     2845\n",
       "Weight (lbs)    2844\n",
       "dtype: int64"
      ]
     },
     "execution_count": 29,
     "metadata": {},
     "output_type": "execute_result"
    }
   ],
   "source": [
    "# Add USA born players College Height and Weight\n",
    "# Remove Duplicate Players by -> name and state\n",
    "# Remove player with incomplete Ht & Wt Data\n",
    "\n",
    "Player_htwt = pd.merge(Player_State, P_htwt, how='left', on=[\"Player\",\"Player\"])\n",
    "Player_htwt.drop_duplicates(subset =('Player', 'State'), keep = False, inplace = True)\n",
    "P_htwt_Clean = Player_htwt\n",
    "\n",
    "# .dropna(axis = 0, how ='any') \n",
    "\n",
    "Player_Profile = P_htwt_Clean\n",
    "#                           , P_college, how='left', on=[\"Player\",\"Player\"])\n",
    "\n",
    "print(\"Old data frame length:\", len(Player_State),\n",
    "      \"\\nNew data frame length:\", len(Player_Profile),\n",
    "      \"\\nNumber of Players with Incomplete Ht&Wt Data: \",len(Player_State)-len(Player_Profile))\n",
    "Player_htwt.count()\n",
    "Player_Profile.count()"
   ]
  },
  {
   "cell_type": "code",
   "execution_count": 41,
   "metadata": {},
   "outputs": [
    {
     "data": {
      "text/html": [
       "<div>\n",
       "<style scoped>\n",
       "    .dataframe tbody tr th:only-of-type {\n",
       "        vertical-align: middle;\n",
       "    }\n",
       "\n",
       "    .dataframe tbody tr th {\n",
       "        vertical-align: top;\n",
       "    }\n",
       "\n",
       "    .dataframe thead th {\n",
       "        text-align: right;\n",
       "    }\n",
       "</style>\n",
       "<table border=\"1\" class=\"dataframe\">\n",
       "  <thead>\n",
       "    <tr style=\"text-align: right;\">\n",
       "      <th></th>\n",
       "      <th>Player</th>\n",
       "      <th>year_start</th>\n",
       "      <th>year_end</th>\n",
       "      <th>position</th>\n",
       "      <th>height</th>\n",
       "      <th>weight</th>\n",
       "      <th>birth_date</th>\n",
       "      <th>college</th>\n",
       "    </tr>\n",
       "  </thead>\n",
       "  <tbody>\n",
       "    <tr>\n",
       "      <td>0</td>\n",
       "      <td>Alaa Abdelnaby</td>\n",
       "      <td>1991</td>\n",
       "      <td>1995</td>\n",
       "      <td>F-C</td>\n",
       "      <td>6-10</td>\n",
       "      <td>240.0</td>\n",
       "      <td>June 24, 1968</td>\n",
       "      <td>Duke University</td>\n",
       "    </tr>\n",
       "    <tr>\n",
       "      <td>1</td>\n",
       "      <td>Zaid Abdul-Aziz</td>\n",
       "      <td>1969</td>\n",
       "      <td>1978</td>\n",
       "      <td>C-F</td>\n",
       "      <td>6-9</td>\n",
       "      <td>235.0</td>\n",
       "      <td>April 7, 1946</td>\n",
       "      <td>Iowa State University</td>\n",
       "    </tr>\n",
       "    <tr>\n",
       "      <td>2</td>\n",
       "      <td>Kareem Abdul-Jabbar</td>\n",
       "      <td>1970</td>\n",
       "      <td>1989</td>\n",
       "      <td>C</td>\n",
       "      <td>7-2</td>\n",
       "      <td>225.0</td>\n",
       "      <td>April 16, 1947</td>\n",
       "      <td>University of California, Los Angeles</td>\n",
       "    </tr>\n",
       "    <tr>\n",
       "      <td>3</td>\n",
       "      <td>Mahmoud Abdul-Rauf</td>\n",
       "      <td>1991</td>\n",
       "      <td>2001</td>\n",
       "      <td>G</td>\n",
       "      <td>6-1</td>\n",
       "      <td>162.0</td>\n",
       "      <td>March 9, 1969</td>\n",
       "      <td>Louisiana State University</td>\n",
       "    </tr>\n",
       "    <tr>\n",
       "      <td>4</td>\n",
       "      <td>Tariq Abdul-Wahad</td>\n",
       "      <td>1998</td>\n",
       "      <td>2003</td>\n",
       "      <td>F</td>\n",
       "      <td>6-6</td>\n",
       "      <td>223.0</td>\n",
       "      <td>November 3, 1974</td>\n",
       "      <td>San Jose State University</td>\n",
       "    </tr>\n",
       "    <tr>\n",
       "      <td>...</td>\n",
       "      <td>...</td>\n",
       "      <td>...</td>\n",
       "      <td>...</td>\n",
       "      <td>...</td>\n",
       "      <td>...</td>\n",
       "      <td>...</td>\n",
       "      <td>...</td>\n",
       "      <td>...</td>\n",
       "    </tr>\n",
       "    <tr>\n",
       "      <td>4545</td>\n",
       "      <td>Ante Zizic</td>\n",
       "      <td>2018</td>\n",
       "      <td>2018</td>\n",
       "      <td>F-C</td>\n",
       "      <td>6-11</td>\n",
       "      <td>250.0</td>\n",
       "      <td>January 4, 1997</td>\n",
       "      <td>NaN</td>\n",
       "    </tr>\n",
       "    <tr>\n",
       "      <td>4546</td>\n",
       "      <td>Jim Zoet</td>\n",
       "      <td>1983</td>\n",
       "      <td>1983</td>\n",
       "      <td>C</td>\n",
       "      <td>7-1</td>\n",
       "      <td>240.0</td>\n",
       "      <td>December 20, 1953</td>\n",
       "      <td>Kent State University</td>\n",
       "    </tr>\n",
       "    <tr>\n",
       "      <td>4547</td>\n",
       "      <td>Bill Zopf</td>\n",
       "      <td>1971</td>\n",
       "      <td>1971</td>\n",
       "      <td>G</td>\n",
       "      <td>6-1</td>\n",
       "      <td>170.0</td>\n",
       "      <td>June 7, 1948</td>\n",
       "      <td>Duquesne University</td>\n",
       "    </tr>\n",
       "    <tr>\n",
       "      <td>4548</td>\n",
       "      <td>Ivica Zubac</td>\n",
       "      <td>2017</td>\n",
       "      <td>2018</td>\n",
       "      <td>C</td>\n",
       "      <td>7-1</td>\n",
       "      <td>265.0</td>\n",
       "      <td>March 18, 1997</td>\n",
       "      <td>NaN</td>\n",
       "    </tr>\n",
       "    <tr>\n",
       "      <td>4549</td>\n",
       "      <td>Matt Zunic</td>\n",
       "      <td>1949</td>\n",
       "      <td>1949</td>\n",
       "      <td>G-F</td>\n",
       "      <td>6-3</td>\n",
       "      <td>195.0</td>\n",
       "      <td>December 19, 1919</td>\n",
       "      <td>George Washington University</td>\n",
       "    </tr>\n",
       "  </tbody>\n",
       "</table>\n",
       "<p>4550 rows × 8 columns</p>\n",
       "</div>"
      ],
      "text/plain": [
       "                   Player  year_start  year_end position height  weight  \\\n",
       "0          Alaa Abdelnaby        1991      1995      F-C   6-10   240.0   \n",
       "1         Zaid Abdul-Aziz        1969      1978      C-F    6-9   235.0   \n",
       "2     Kareem Abdul-Jabbar        1970      1989        C    7-2   225.0   \n",
       "3      Mahmoud Abdul-Rauf        1991      2001        G    6-1   162.0   \n",
       "4       Tariq Abdul-Wahad        1998      2003        F    6-6   223.0   \n",
       "...                   ...         ...       ...      ...    ...     ...   \n",
       "4545           Ante Zizic        2018      2018      F-C   6-11   250.0   \n",
       "4546             Jim Zoet        1983      1983        C    7-1   240.0   \n",
       "4547            Bill Zopf        1971      1971        G    6-1   170.0   \n",
       "4548          Ivica Zubac        2017      2018        C    7-1   265.0   \n",
       "4549           Matt Zunic        1949      1949      G-F    6-3   195.0   \n",
       "\n",
       "             birth_date                                college  \n",
       "0         June 24, 1968                        Duke University  \n",
       "1         April 7, 1946                  Iowa State University  \n",
       "2        April 16, 1947  University of California, Los Angeles  \n",
       "3         March 9, 1969             Louisiana State University  \n",
       "4      November 3, 1974              San Jose State University  \n",
       "...                 ...                                    ...  \n",
       "4545    January 4, 1997                                    NaN  \n",
       "4546  December 20, 1953                  Kent State University  \n",
       "4547       June 7, 1948                    Duquesne University  \n",
       "4548     March 18, 1997                                    NaN  \n",
       "4549  December 19, 1919           George Washington University  \n",
       "\n",
       "[4550 rows x 8 columns]"
      ]
     },
     "execution_count": 41,
     "metadata": {},
     "output_type": "execute_result"
    }
   ],
   "source": [
    "y = [\n",
    "'Player',\n",
    "'Tm',\n",
    "'birth_state']\n",
    "player_profile =[y]\n",
    "player_profile\n",
    "\n",
    "Player_Profile_Dirty = pd.merge(plyr_season, career, how='left', on=[\"Player\",\"Player\"])\n",
    "Player_Profile_Dirty\n",
    "plyr_season = plyr_season.rename(columns={'name': 'Player'})\n",
    "plyr_season"
   ]
  },
  {
   "cell_type": "code",
   "execution_count": 42,
   "metadata": {},
   "outputs": [],
   "source": [
    "# We Import NBA Teams Location\n",
    "\n",
    "tll = './resources/NBA_TeamLL.csv'\n",
    "Team_LL= pd.read_csv(tll)\n",
    "Team_LL"
   ]
  },
  {
   "cell_type": "code",
   "execution_count": 43,
   "metadata": {},
   "outputs": [],
   "source": [
    "# We Import NBA Player Season Stats\n",
    "\n",
    "Season_stats = './resources/Seasons_Stats.csv'\n",
    "stats_season = pd.read_csv(Season_stats)\n",
    "#  Renames Columns\n",
    "\n",
    "dirty_stats = stats_season.rename(columns={\n",
    "    'Tm': 'Team',\n",
    "    'Pos':'Position (Season)',\n",
    "    'TRB':'Rebounds',\n",
    "    'STL':'Steals',\n",
    "    'BLK':'Blocks',\n",
    "    'AST':'Assists',\n",
    "    'PTS':'Points',\n",
    "    'PER':'Player Rating'})\n",
    "# dirty_stats"
   ]
  },
  {
   "cell_type": "code",
   "execution_count": 44,
   "metadata": {},
   "outputs": [
    {
     "data": {
      "text/plain": [
       "Unnamed: 0           24691\n",
       "Year                 24624\n",
       "Player               24624\n",
       "Position (Season)    24624\n",
       "Age                  24616\n",
       "Team                 24624\n",
       "G                    24624\n",
       "GS                   18233\n",
       "MP                   24138\n",
       "Player Rating        24101\n",
       "TS%                  24538\n",
       "3PAr                 18839\n",
       "FTr                  24525\n",
       "ORB%                 20792\n",
       "DRB%                 20792\n",
       "TRB%                 21571\n",
       "AST%                 22555\n",
       "STL%                 20792\n",
       "BLK%                 20792\n",
       "TOV%                 19582\n",
       "USG%                 19640\n",
       "blanl                    0\n",
       "OWS                  24585\n",
       "DWS                  24585\n",
       "WS                   24585\n",
       "WS/48                24101\n",
       "blank2                   0\n",
       "OBPM                 20797\n",
       "DBPM                 20797\n",
       "BPM                  20797\n",
       "VORP                 20797\n",
       "FG                   24624\n",
       "FGA                  24624\n",
       "FG%                  24525\n",
       "3P                   18927\n",
       "3PA                  18927\n",
       "3P%                  15416\n",
       "2P                   24624\n",
       "2PA                  24624\n",
       "2P%                  24496\n",
       "eFG%                 24525\n",
       "FT                   24624\n",
       "FTA                  24624\n",
       "FT%                  23766\n",
       "ORB                  20797\n",
       "DRB                  20797\n",
       "Rebounds             24312\n",
       "Assists              24624\n",
       "Steals               20797\n",
       "Blocks               20797\n",
       "TOV                  19645\n",
       "PF                   24624\n",
       "Points               24624\n",
       "Team Name            18837\n",
       "Lng                  18837\n",
       "Lat                  18837\n",
       "Unnamed: 4               0\n",
       "dtype: int64"
      ]
     },
     "execution_count": 44,
     "metadata": {},
     "output_type": "execute_result"
    }
   ],
   "source": [
    "season_stats = pd.merge(dirty_stats, Team_LL, how='left', on=[\"Team\",\"Team\"])\n",
    "season_stats.count()"
   ]
  },
  {
   "cell_type": "code",
   "execution_count": null,
   "metadata": {},
   "outputs": [],
   "source": [
    "# Select only the Columns that are needed\n",
    "\n",
    "new_columns = [\n",
    "    'Year',\n",
    "    'Player',\n",
    "    'Position (Season)',\n",
    "    'Team',\n",
    "    'Team Name',\n",
    "    'Team Lat',\n",
    "    'Team Lng',\n",
    "    'Rebounds',\n",
    "    'Steals',\n",
    "    'Blocks',\n",
    "    'Assists',\n",
    "    'Points',\n",
    "    'Player Rating']\n",
    "stats_col= season_stats[new_columns]\n",
    "stats_col"
   ]
  },
  {
   "cell_type": "code",
   "execution_count": null,
   "metadata": {},
   "outputs": [],
   "source": [
    "# Select only the 2010-2015 Season statistics\n",
    "\n",
    "STATS = stats_col.loc[(stats_col['Year']>=2010)&(stats_col['Year']=<2015)]\n",
    "STATS.count()"
   ]
  },
  {
   "cell_type": "code",
   "execution_count": null,
   "metadata": {},
   "outputs": [],
   "source": [
    "# Merge the Clean Player Profile with the Clean Player Stats\n",
    "\n",
    "NBA = pd.merge(Player_Profile,STATS, how='left', on=[\"Player\",\"Player\"])\n",
    "NBA = NBA.dropna(axis = 0, how ='any')\n",
    "NBA.count()"
   ]
  },
  {
   "cell_type": "code",
   "execution_count": null,
   "metadata": {},
   "outputs": [],
   "source": [
    "# Add the players colleges if they attended\n",
    "\n",
    "NBAProfile = pd.merge(NBA, P_college, how='left', on=[\"Player\",\"Player\"])\n",
    "NBAProfile['MapPt'] = pd.Series(3, index=NBAProfile.index)\n",
    "NBAProfile.count()"
   ]
  },
  {
   "cell_type": "code",
   "execution_count": null,
   "metadata": {},
   "outputs": [],
   "source": [
    "NBAProfile.set_index(\"Player\", inplace=True)"
   ]
  },
  {
   "cell_type": "code",
   "execution_count": null,
   "metadata": {},
   "outputs": [],
   "source": [
    "import gmaps\n",
    "from api_keys import g_key"
   ]
  },
  {
   "cell_type": "code",
   "execution_count": null,
   "metadata": {},
   "outputs": [],
   "source": [
    "gmaps.configure(api_key=g_key)"
   ]
  },
  {
   "cell_type": "code",
   "execution_count": null,
   "metadata": {},
   "outputs": [],
   "source": [
    "birthlocations = NBAProfile[[\"Latitude\", \"Longitude\"]]\n",
    "Teamlocations = NBAProfile[[\"Team Lat\", \"Team Lng\"]]\n",
    "MP = NBAProfile[\"MapPt\"].astype(float)"
   ]
  },
  {
   "cell_type": "code",
   "execution_count": null,
   "metadata": {},
   "outputs": [],
   "source": [
    "# Plot Heatmap\n",
    "fig = gmaps.figure()\n",
    "\n",
    "# Create heat layer\n",
    "heat_layerB = gmaps.heatmap_layer(birthlocations, weights=(NBAProfile['Player Rating']*NBAProfile['Player Rating']), \n",
    "                                 dissipating=False, max_intensity=30000,\n",
    "                                 point_radius=1)\n",
    "# Add layer\n",
    "fig.add_layer(heat_layerB)\n",
    "\n",
    "# Display figure\n",
    "# print(Player_Profile['State'].value_counts())\n",
    "fig"
   ]
  },
  {
   "cell_type": "code",
   "execution_count": null,
   "metadata": {},
   "outputs": [],
   "source": [
    "# Plot Heatmap\n",
    "fig2 = gmaps.figure()\n",
    "\n",
    "# Create heat layer\n",
    "heat_layerT = gmaps.heatmap_layer(Teamlocations, weights=MP, \n",
    "                                 dissipating=False, max_intensity=250,\n",
    "                                 point_radius=1)\n",
    "# Add layer\n",
    "fig2.add_layer(heat_layerT)\n",
    "\n",
    "# Display figure\n",
    "# print(Player_Profile['State'].value_counts())\n",
    "fig2"
   ]
  },
  {
   "cell_type": "code",
   "execution_count": null,
   "metadata": {},
   "outputs": [],
   "source": [
    "# Import Dependencies\n",
    "import pandas as pd\n",
    "from sqlalchemy import create_engine"
   ]
  },
  {
   "cell_type": "code",
   "execution_count": null,
   "metadata": {},
   "outputs": [],
   "source": [
    "# Create database connection\n",
    "connection_string = \"postgres:kelbywilson@localhost:57628/NBA\"\n",
    "engine = create_engine(f'postgresql://{connection_string}')"
   ]
  },
  {
   "cell_type": "code",
   "execution_count": null,
   "metadata": {},
   "outputs": [],
   "source": [
    "# Confirm tables\n",
    "engine.table_names()"
   ]
  },
  {
   "cell_type": "code",
   "execution_count": null,
   "metadata": {},
   "outputs": [],
   "source": [
    "# Load dataframes into database\n",
    "nbaprofile.to_sql(name=\"nba_profile\", con=engine, if_exists='replace', index=True)\n",
    "engine.execute(\"SELECT * FROM nba_profile\").fetchall()"
   ]
  },
  {
   "cell_type": "code",
   "execution_count": null,
   "metadata": {},
   "outputs": [],
   "source": [
    "Player_Profile.to_sql(name='Player_Profile', con=engine, if_exists='replace', index=True)\n",
    "engine.execute(\"SELECT * FROM Player_Profile\").fetchall()"
   ]
  }
 ],
 "metadata": {
  "kernelspec": {
   "display_name": "Python 3",
   "language": "python",
   "name": "python3"
  },
  "language_info": {
   "codemirror_mode": {
    "name": "ipython",
    "version": 3
   },
   "file_extension": ".py",
   "mimetype": "text/x-python",
   "name": "python",
   "nbconvert_exporter": "python",
   "pygments_lexer": "ipython3",
   "version": "3.7.4"
  }
 },
 "nbformat": 4,
 "nbformat_minor": 2
}
